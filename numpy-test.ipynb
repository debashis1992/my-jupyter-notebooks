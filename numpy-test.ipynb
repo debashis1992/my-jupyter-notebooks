{
 "cells": [
  {
   "cell_type": "code",
   "execution_count": 19,
   "id": "bd488d79",
   "metadata": {},
   "outputs": [
    {
     "name": "stdout",
     "output_type": "stream",
     "text": [
      "CPU times: user 449 ms, sys: 97.4 ms, total: 546 ms\n",
      "Wall time: 547 ms\n",
      "CPU times: user 8.07 ms, sys: 71 µs, total: 8.14 ms\n",
      "Wall time: 8.26 ms\n"
     ]
    },
    {
     "data": {
      "text/plain": [
       "array([0, 1, 2, 3, 4, 5, 6, 7, 8, 9])"
      ]
     },
     "execution_count": 19,
     "metadata": {},
     "output_type": "execute_result"
    }
   ],
   "source": [
    "import numpy as np\n",
    "\n",
    "my_list = list(range(1000000))\n",
    "\n",
    "%time for i in range(10): my_list2=[i*2 for i in my_list]\n",
    "\n",
    "my_arr = np.arange(1000000)\n",
    "\n",
    "%time for i in range(10): my_arr = my_arr*2\n",
    "    \n",
    "my_arr2 = np.arange(10)\n",
    "my_arr2"
   ]
  },
  {
   "cell_type": "code",
   "execution_count": 30,
   "id": "4d23cff4",
   "metadata": {},
   "outputs": [
    {
     "name": "stdout",
     "output_type": "stream",
     "text": [
      "[[-1.10837797 -0.75944527 -0.88616182  0.57027295]\n",
      " [-1.27347951  0.08607507  0.61929115  0.26478309]]\n",
      "[[-2.21675593 -1.51889054 -1.77232365  1.1405459 ]\n",
      " [-2.54695902  0.17215015  1.2385823   0.52956619]]\n"
     ]
    },
    {
     "data": {
      "text/plain": [
       "dtype('float64')"
      ]
     },
     "execution_count": 30,
     "metadata": {},
     "output_type": "execute_result"
    }
   ],
   "source": [
    "import numpy as np\n",
    "\n",
    "data = np.random.randn(2,4)\n",
    "print(data)\n",
    "data = data *2\n",
    "print(data)\n",
    "\n",
    "\n",
    "data.shape\n",
    "data.dtype"
   ]
  }
 ],
 "metadata": {
  "kernelspec": {
   "display_name": "Python 3 (ipykernel)",
   "language": "python",
   "name": "python3"
  },
  "language_info": {
   "codemirror_mode": {
    "name": "ipython",
    "version": 3
   },
   "file_extension": ".py",
   "mimetype": "text/x-python",
   "name": "python",
   "nbconvert_exporter": "python",
   "pygments_lexer": "ipython3",
   "version": "3.9.9"
  }
 },
 "nbformat": 4,
 "nbformat_minor": 5
}
