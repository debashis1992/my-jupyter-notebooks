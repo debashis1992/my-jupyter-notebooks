{
 "cells": [
  {
   "cell_type": "code",
   "execution_count": 6,
   "id": "aec6eb05",
   "metadata": {},
   "outputs": [
    {
     "name": "stdout",
     "output_type": "stream",
     "text": [
      "1 4 9 16 25 36 49 64 81 100 "
     ]
    },
    {
     "data": {
      "text/plain": [
       "{1: 1, 2: 4, 3: 9, 4: 16, 5: 25, 6: 36, 7: 49, 8: 64, 9: 81, 10: 100}"
      ]
     },
     "execution_count": 6,
     "metadata": {},
     "output_type": "execute_result"
    }
   ],
   "source": [
    "def squares(n=10):\n",
    "    for i in range(1,n+1):\n",
    "        yield i**2\n",
    "        \n",
    "for i in squares():\n",
    "    print(i, end = ' ')\n",
    "    \n",
    "di = {x:x**2 for x in range(1,11)}\n",
    "di"
   ]
  },
  {
   "cell_type": "code",
   "execution_count": 33,
   "id": "7230d4b4",
   "metadata": {},
   "outputs": [
    {
     "name": "stdout",
     "output_type": "stream",
     "text": [
      "A-['Alan', 'Adam']\n",
      "W-['Wes', 'Will']\n",
      "A-['Albert']\n",
      "S-['Steven']\n",
      "A-[[['Alan', 'Adam'], 'Albert', ['Alan'], ['Wes'], [...]]]\n",
      "W-[[['Alan', 'Adam'], 'Albert', ['Alan'], ['Wes'], [...]]]\n",
      "S-[[['Alan', 'Adam'], 'Albert', ['Alan'], ['Wes'], [...]]]\n"
     ]
    }
   ],
   "source": [
    "import itertools as it\n",
    "\n",
    "first_letter = lambda x: x[0]\n",
    "names = ['Alan', 'Adam', 'Wes', 'Will', 'Albert', 'Steven']\n",
    "\n",
    "for letter,name in it.groupby(names, first_letter):\n",
    "    print(letter, list(name), sep = '-')\n",
    "  \n",
    "di = {}\n",
    "for name in names:\n",
    "    if name[0] in di.keys():\n",
    "        li = di[name[0]]\n",
    "        li.append(name)\n",
    "        di[name[0]] = li\n",
    "    else:\n",
    "        di[name[0]] = [name]\n",
    "        \n",
    "for key,value in di.items():\n",
    "    print(key, val, sep = '-')"
   ]
  },
  {
   "cell_type": "code",
   "execution_count": 37,
   "id": "91135706",
   "metadata": {},
   "outputs": [
    {
     "name": "stdout",
     "output_type": "stream",
     "text": [
      "{'A', 'W', 'S'}\n",
      "{'A': ['Alan', 'Adam', 'Albert'], 'W': ['Wes', 'Will'], 'S': ['Steven']}\n"
     ]
    }
   ],
   "source": [
    "names = ['Alan', 'Adam', 'Wes', 'Will', 'Albert', 'Steven']\n",
    "keys = {name[0] for name in names}\n",
    "\n",
    "print(keys)\n",
    "di = {}\n",
    "for name in names:\n",
    "    if name[0] not in di.keys():\n",
    "        di[name[0]] = [name]\n",
    "    else:\n",
    "        li = di[name[0]]\n",
    "        li.append(name)\n",
    "        di[name[0]] = li\n",
    "    \n",
    "print(di)"
   ]
  },
  {
   "cell_type": "code",
   "execution_count": 40,
   "id": "f7ba5aba",
   "metadata": {},
   "outputs": [
    {
     "name": "stdout",
     "output_type": "stream",
     "text": [
      "0.5\n",
      "all good...\n"
     ]
    }
   ],
   "source": [
    "try:\n",
    "    print(1/2)\n",
    "except ZeroDivisionError as e:\n",
    "    print(\"division by zero...\")\n",
    "else:\n",
    "    print(\"all good...\")"
   ]
  },
  {
   "cell_type": "code",
   "execution_count": null,
   "id": "2d65d7e3",
   "metadata": {},
   "outputs": [],
   "source": []
  },
  {
   "cell_type": "code",
   "execution_count": null,
   "id": "10b6a399",
   "metadata": {},
   "outputs": [],
   "source": []
  }
 ],
 "metadata": {
  "kernelspec": {
   "display_name": "Python 3 (ipykernel)",
   "language": "python",
   "name": "python3"
  },
  "language_info": {
   "codemirror_mode": {
    "name": "ipython",
    "version": 3
   },
   "file_extension": ".py",
   "mimetype": "text/x-python",
   "name": "python",
   "nbconvert_exporter": "python",
   "pygments_lexer": "ipython3",
   "version": "3.9.9"
  }
 },
 "nbformat": 4,
 "nbformat_minor": 5
}
